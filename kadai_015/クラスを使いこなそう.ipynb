{
  "nbformat": 4,
  "nbformat_minor": 0,
  "metadata": {
    "colab": {
      "provenance": []
    },
    "kernelspec": {
      "name": "python3",
      "display_name": "Python 3"
    },
    "language_info": {
      "name": "python"
    }
  },
  "cells": [
    {
      "cell_type": "code",
      "execution_count": 2,
      "metadata": {
        "colab": {
          "base_uri": "https://localhost:8080/"
        },
        "id": "7c5Fr3Dtk8d1",
        "outputId": "bdd524a8-fcce-4fd8-a730-056142bf727c"
      },
      "outputs": [
        {
          "output_type": "stream",
          "name": "stdout",
          "text": [
            "名前: 侍花子, 年齢: 20\n"
          ]
        }
      ],
      "source": [
        "# Humanクラスの定義\n",
        "class Human:\n",
        "    # コンストラクタの定義\n",
        "    def __init__(self, name, age):\n",
        "        self.name = name  # 名前属性\n",
        "        self.age = age    # 年齢属性\n",
        "\n",
        "    # nameとageを出力するメソッド\n",
        "    def printinfo(self):\n",
        "        print(f\"名前: {self.name}, 年齢: {self.age}\")  # 属性を出力\n",
        "\n",
        "# インスタンス化する\n",
        "user = Human(\"侍花子\", 20)\n",
        "\n",
        "# メソッドを使って情報を出力する\n",
        "user.printinfo()\n"
      ]
    }
  ]
}